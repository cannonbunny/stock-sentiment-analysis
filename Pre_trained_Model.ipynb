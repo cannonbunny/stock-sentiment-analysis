{
  "nbformat": 4,
  "nbformat_minor": 0,
  "metadata": {
    "colab": {
      "name": "Pre-trained Model.ipynb",
      "provenance": [],
      "collapsed_sections": [],
      "toc_visible": true,
      "include_colab_link": true
    },
    "kernelspec": {
      "name": "python3",
      "display_name": "Python 3"
    },
    "accelerator": "GPU",
    "widgets": {
      "application/vnd.jupyter.widget-state+json": {
        "2c9933b1a1f34034897df2a08a8eaa97": {
          "model_module": "@jupyter-widgets/controls",
          "model_name": "HBoxModel",
          "state": {
            "_view_name": "HBoxView",
            "_dom_classes": [],
            "_model_name": "HBoxModel",
            "_view_module": "@jupyter-widgets/controls",
            "_model_module_version": "1.5.0",
            "_view_count": null,
            "_view_module_version": "1.5.0",
            "box_style": "",
            "layout": "IPY_MODEL_84d23a9459264b369570a216559a8507",
            "_model_module": "@jupyter-widgets/controls",
            "children": [
              "IPY_MODEL_50c33801a3984269af1d4d925dd1fa29",
              "IPY_MODEL_27304872049a444ca0723156d7cf3737"
            ]
          }
        },
        "84d23a9459264b369570a216559a8507": {
          "model_module": "@jupyter-widgets/base",
          "model_name": "LayoutModel",
          "state": {
            "_view_name": "LayoutView",
            "grid_template_rows": null,
            "right": null,
            "justify_content": null,
            "_view_module": "@jupyter-widgets/base",
            "overflow": null,
            "_model_module_version": "1.2.0",
            "_view_count": null,
            "flex_flow": null,
            "width": null,
            "min_width": null,
            "border": null,
            "align_items": null,
            "bottom": null,
            "_model_module": "@jupyter-widgets/base",
            "top": null,
            "grid_column": null,
            "overflow_y": null,
            "overflow_x": null,
            "grid_auto_flow": null,
            "grid_area": null,
            "grid_template_columns": null,
            "flex": null,
            "_model_name": "LayoutModel",
            "justify_items": null,
            "grid_row": null,
            "max_height": null,
            "align_content": null,
            "visibility": null,
            "align_self": null,
            "height": null,
            "min_height": null,
            "padding": null,
            "grid_auto_rows": null,
            "grid_gap": null,
            "max_width": null,
            "order": null,
            "_view_module_version": "1.2.0",
            "grid_template_areas": null,
            "object_position": null,
            "object_fit": null,
            "grid_auto_columns": null,
            "margin": null,
            "display": null,
            "left": null
          }
        },
        "50c33801a3984269af1d4d925dd1fa29": {
          "model_module": "@jupyter-widgets/controls",
          "model_name": "FloatProgressModel",
          "state": {
            "_view_name": "ProgressView",
            "style": "IPY_MODEL_9b64b55c56fe46f795aa8b6fa0a1c908",
            "_dom_classes": [],
            "description": "Downloading: 100%",
            "_model_name": "FloatProgressModel",
            "bar_style": "success",
            "max": 798011,
            "_view_module": "@jupyter-widgets/controls",
            "_model_module_version": "1.5.0",
            "value": 798011,
            "_view_count": null,
            "_view_module_version": "1.5.0",
            "orientation": "horizontal",
            "min": 0,
            "description_tooltip": null,
            "_model_module": "@jupyter-widgets/controls",
            "layout": "IPY_MODEL_8c354e5ce0c74fb7a2272b0b096a7310"
          }
        },
        "27304872049a444ca0723156d7cf3737": {
          "model_module": "@jupyter-widgets/controls",
          "model_name": "HTMLModel",
          "state": {
            "_view_name": "HTMLView",
            "style": "IPY_MODEL_11adadce153642e99416eaabe3c7eccc",
            "_dom_classes": [],
            "description": "",
            "_model_name": "HTMLModel",
            "placeholder": "​",
            "_view_module": "@jupyter-widgets/controls",
            "_model_module_version": "1.5.0",
            "value": " 798k/798k [00:01&lt;00:00, 423kB/s]",
            "_view_count": null,
            "_view_module_version": "1.5.0",
            "description_tooltip": null,
            "_model_module": "@jupyter-widgets/controls",
            "layout": "IPY_MODEL_4198e985fd964bc9be45d30d1b49c760"
          }
        },
        "9b64b55c56fe46f795aa8b6fa0a1c908": {
          "model_module": "@jupyter-widgets/controls",
          "model_name": "ProgressStyleModel",
          "state": {
            "_view_name": "StyleView",
            "_model_name": "ProgressStyleModel",
            "description_width": "initial",
            "_view_module": "@jupyter-widgets/base",
            "_model_module_version": "1.5.0",
            "_view_count": null,
            "_view_module_version": "1.2.0",
            "bar_color": null,
            "_model_module": "@jupyter-widgets/controls"
          }
        },
        "8c354e5ce0c74fb7a2272b0b096a7310": {
          "model_module": "@jupyter-widgets/base",
          "model_name": "LayoutModel",
          "state": {
            "_view_name": "LayoutView",
            "grid_template_rows": null,
            "right": null,
            "justify_content": null,
            "_view_module": "@jupyter-widgets/base",
            "overflow": null,
            "_model_module_version": "1.2.0",
            "_view_count": null,
            "flex_flow": null,
            "width": null,
            "min_width": null,
            "border": null,
            "align_items": null,
            "bottom": null,
            "_model_module": "@jupyter-widgets/base",
            "top": null,
            "grid_column": null,
            "overflow_y": null,
            "overflow_x": null,
            "grid_auto_flow": null,
            "grid_area": null,
            "grid_template_columns": null,
            "flex": null,
            "_model_name": "LayoutModel",
            "justify_items": null,
            "grid_row": null,
            "max_height": null,
            "align_content": null,
            "visibility": null,
            "align_self": null,
            "height": null,
            "min_height": null,
            "padding": null,
            "grid_auto_rows": null,
            "grid_gap": null,
            "max_width": null,
            "order": null,
            "_view_module_version": "1.2.0",
            "grid_template_areas": null,
            "object_position": null,
            "object_fit": null,
            "grid_auto_columns": null,
            "margin": null,
            "display": null,
            "left": null
          }
        },
        "11adadce153642e99416eaabe3c7eccc": {
          "model_module": "@jupyter-widgets/controls",
          "model_name": "DescriptionStyleModel",
          "state": {
            "_view_name": "StyleView",
            "_model_name": "DescriptionStyleModel",
            "description_width": "",
            "_view_module": "@jupyter-widgets/base",
            "_model_module_version": "1.5.0",
            "_view_count": null,
            "_view_module_version": "1.2.0",
            "_model_module": "@jupyter-widgets/controls"
          }
        },
        "4198e985fd964bc9be45d30d1b49c760": {
          "model_module": "@jupyter-widgets/base",
          "model_name": "LayoutModel",
          "state": {
            "_view_name": "LayoutView",
            "grid_template_rows": null,
            "right": null,
            "justify_content": null,
            "_view_module": "@jupyter-widgets/base",
            "overflow": null,
            "_model_module_version": "1.2.0",
            "_view_count": null,
            "flex_flow": null,
            "width": null,
            "min_width": null,
            "border": null,
            "align_items": null,
            "bottom": null,
            "_model_module": "@jupyter-widgets/base",
            "top": null,
            "grid_column": null,
            "overflow_y": null,
            "overflow_x": null,
            "grid_auto_flow": null,
            "grid_area": null,
            "grid_template_columns": null,
            "flex": null,
            "_model_name": "LayoutModel",
            "justify_items": null,
            "grid_row": null,
            "max_height": null,
            "align_content": null,
            "visibility": null,
            "align_self": null,
            "height": null,
            "min_height": null,
            "padding": null,
            "grid_auto_rows": null,
            "grid_gap": null,
            "max_width": null,
            "order": null,
            "_view_module_version": "1.2.0",
            "grid_template_areas": null,
            "object_position": null,
            "object_fit": null,
            "grid_auto_columns": null,
            "margin": null,
            "display": null,
            "left": null
          }
        }
      }
    }
  },
  "cells": [
    {
      "cell_type": "markdown",
      "metadata": {
        "id": "view-in-github",
        "colab_type": "text"
      },
      "source": [
        "<a href=\"https://colab.research.google.com/github/cannonbunny/stock-sentiment-analysis/blob/master/Pre_trained_Model.ipynb\" target=\"_parent\"><img src=\"https://colab.research.google.com/assets/colab-badge.svg\" alt=\"Open In Colab\"/></a>"
      ]
    },
    {
      "cell_type": "markdown",
      "metadata": {
        "id": "-EK2IreB9_Be"
      },
      "source": [
        "# Bert variation model training and testing"
      ]
    },
    {
      "cell_type": "markdown",
      "metadata": {
        "id": "IqYsxGIpiQUC"
      },
      "source": [
        "Import requirements"
      ]
    },
    {
      "cell_type": "code",
      "metadata": {
        "id": "yS-zYL-aoYoC"
      },
      "source": [
        "!pip install tensorflow_text\n",
        "!pip install tf-models-official"
      ],
      "execution_count": null,
      "outputs": []
    },
    {
      "cell_type": "code",
      "metadata": {
        "id": "7IhVZqChTj67"
      },
      "source": [
        "import os\n",
        "import shutil\n",
        "\n",
        "import pandas as pd\n",
        "import tensorflow as tf\n",
        "import tensorflow_hub as hub\n",
        "import tensorflow_text as text\n",
        "from official.nlp import optimization  # to create AdamW optmizer\n",
        "from sklearn.model_selection import train_test_split\n",
        "from sklearn.feature_extraction.text import CountVectorizer\n",
        "from keras.utils import to_categorical\n",
        "import keras\n",
        "\n",
        "import matplotlib.pyplot as plt\n",
        "\n",
        "tf.get_logger().setLevel('ERROR')"
      ],
      "execution_count": 2,
      "outputs": []
    },
    {
      "cell_type": "code",
      "metadata": {
        "id": "nV43P5mvTnUm",
        "colab": {
          "base_uri": "https://localhost:8080/"
        },
        "outputId": "4f4411ca-01b8-479a-ac1c-cfd730296614"
      },
      "source": [
        "num_gpu = len(tf.config.experimental.list_physical_devices('GPU'))\n",
        "print(\"Num GPUs Available: \", num_gpu)\n",
        "if num_gpu > 0:\n",
        "    tf.debugging.set_log_device_placement(True)"
      ],
      "execution_count": 3,
      "outputs": [
        {
          "output_type": "stream",
          "text": [
            "Num GPUs Available:  1\n"
          ],
          "name": "stdout"
        }
      ]
    },
    {
      "cell_type": "code",
      "metadata": {
        "colab": {
          "base_uri": "https://localhost:8080/"
        },
        "id": "slR_Wpu2U3Xk",
        "outputId": "9d54ae68-b550-49a1-eb96-3a6f1ba28191"
      },
      "source": [
        "from google.colab import drive\n",
        "drive.mount('/content/drive')"
      ],
      "execution_count": 4,
      "outputs": [
        {
          "output_type": "stream",
          "text": [
            "Mounted at /content/drive\n"
          ],
          "name": "stdout"
        }
      ]
    },
    {
      "cell_type": "code",
      "metadata": {
        "id": "gRypcyzkTxq-"
      },
      "source": [
        "data = pd.read_csv('/content/drive/My Drive/all-data.csv', encoding='latin-1', names=['sentiment', 'text'])"
      ],
      "execution_count": 5,
      "outputs": []
    },
    {
      "cell_type": "code",
      "metadata": {
        "id": "ltNRqgUscb2P"
      },
      "source": [
        "x_train,x_test,y_train,y_test = train_test_split(data.text,data.sentiment,test_size = 0.2 , random_state = 0)"
      ],
      "execution_count": 6,
      "outputs": []
    },
    {
      "cell_type": "code",
      "metadata": {
        "colab": {
          "base_uri": "https://localhost:8080/"
        },
        "id": "L4jxVHIHfWMR",
        "outputId": "6650d150-c38a-45ec-ae5f-c709be612289"
      },
      "source": [
        "y_train = to_categorical(y_train)\n",
        "y_test = to_categorical(y_test)\n",
        "y_train.shape, y_test.shape"
      ],
      "execution_count": 7,
      "outputs": [
        {
          "output_type": "execute_result",
          "data": {
            "text/plain": [
              "((3876, 3), (970, 3))"
            ]
          },
          "metadata": {
            "tags": []
          },
          "execution_count": 7
        }
      ]
    },
    {
      "cell_type": "markdown",
      "metadata": {
        "id": "PAGIuZCcigVK"
      },
      "source": [
        "Process model selection"
      ]
    },
    {
      "cell_type": "code",
      "metadata": {
        "id": "NSsRMIZGTuPE",
        "colab": {
          "base_uri": "https://localhost:8080/"
        },
        "cellView": "form",
        "outputId": "5b74d404-d7cb-4119-dd5e-393965e37eb3"
      },
      "source": [
        "#@title Choose a BERT model to fine-tune\n",
        "\n",
        "bert_model_name = 'bert_en_uncased_L-12_H-768_A-12'  #@param [\"bert_en_uncased_L-12_H-768_A-12\", \"bert_en_cased_L-12_H-768_A-12\", \"bert_multi_cased_L-12_H-768_A-12\", \"small_bert/bert_en_uncased_L-2_H-128_A-2\", \"small_bert/bert_en_uncased_L-2_H-256_A-4\", \"small_bert/bert_en_uncased_L-2_H-512_A-8\", \"small_bert/bert_en_uncased_L-2_H-768_A-12\", \"small_bert/bert_en_uncased_L-4_H-128_A-2\", \"small_bert/bert_en_uncased_L-4_H-256_A-4\", \"small_bert/bert_en_uncased_L-4_H-512_A-8\", \"small_bert/bert_en_uncased_L-4_H-768_A-12\", \"small_bert/bert_en_uncased_L-6_H-128_A-2\", \"small_bert/bert_en_uncased_L-6_H-256_A-4\", \"small_bert/bert_en_uncased_L-6_H-512_A-8\", \"small_bert/bert_en_uncased_L-6_H-768_A-12\", \"small_bert/bert_en_uncased_L-8_H-128_A-2\", \"small_bert/bert_en_uncased_L-8_H-256_A-4\", \"small_bert/bert_en_uncased_L-8_H-512_A-8\", \"small_bert/bert_en_uncased_L-8_H-768_A-12\", \"small_bert/bert_en_uncased_L-10_H-128_A-2\", \"small_bert/bert_en_uncased_L-10_H-256_A-4\", \"small_bert/bert_en_uncased_L-10_H-512_A-8\", \"small_bert/bert_en_uncased_L-10_H-768_A-12\", \"small_bert/bert_en_uncased_L-12_H-128_A-2\", \"small_bert/bert_en_uncased_L-12_H-256_A-4\", \"small_bert/bert_en_uncased_L-12_H-512_A-8\", \"small_bert/bert_en_uncased_L-12_H-768_A-12\", \"albert_en_base\", \"electra_small\", \"electra_base\", \"experts_pubmed\", \"experts_wiki_books\", \"talking-heads_base\"]\n",
        "\n",
        "map_name_to_handle = {\n",
        "    'bert_en_uncased_L-12_H-768_A-12':\n",
        "        'https://tfhub.dev/tensorflow/bert_en_uncased_L-12_H-768_A-12/3',\n",
        "    'bert_en_cased_L-12_H-768_A-12':\n",
        "        'https://tfhub.dev/tensorflow/bert_en_cased_L-12_H-768_A-12/3',\n",
        "    'bert_multi_cased_L-12_H-768_A-12':\n",
        "        'https://tfhub.dev/tensorflow/bert_multi_cased_L-12_H-768_A-12/3',\n",
        "    'small_bert/bert_en_uncased_L-2_H-128_A-2':\n",
        "        'https://tfhub.dev/tensorflow/small_bert/bert_en_uncased_L-2_H-128_A-2/1',\n",
        "    'small_bert/bert_en_uncased_L-2_H-256_A-4':\n",
        "        'https://tfhub.dev/tensorflow/small_bert/bert_en_uncased_L-2_H-256_A-4/1',\n",
        "    'small_bert/bert_en_uncased_L-2_H-512_A-8':\n",
        "        'https://tfhub.dev/tensorflow/small_bert/bert_en_uncased_L-2_H-512_A-8/1',\n",
        "    'small_bert/bert_en_uncased_L-2_H-768_A-12':\n",
        "        'https://tfhub.dev/tensorflow/small_bert/bert_en_uncased_L-2_H-768_A-12/1',\n",
        "    'small_bert/bert_en_uncased_L-4_H-128_A-2':\n",
        "        'https://tfhub.dev/tensorflow/small_bert/bert_en_uncased_L-4_H-128_A-2/1',\n",
        "    'small_bert/bert_en_uncased_L-4_H-256_A-4':\n",
        "        'https://tfhub.dev/tensorflow/small_bert/bert_en_uncased_L-4_H-256_A-4/1',\n",
        "    'small_bert/bert_en_uncased_L-4_H-512_A-8':\n",
        "        'https://tfhub.dev/tensorflow/small_bert/bert_en_uncased_L-4_H-512_A-8/1',\n",
        "    'small_bert/bert_en_uncased_L-4_H-768_A-12':\n",
        "        'https://tfhub.dev/tensorflow/small_bert/bert_en_uncased_L-4_H-768_A-12/1',\n",
        "    'small_bert/bert_en_uncased_L-6_H-128_A-2':\n",
        "        'https://tfhub.dev/tensorflow/small_bert/bert_en_uncased_L-6_H-128_A-2/1',\n",
        "    'small_bert/bert_en_uncased_L-6_H-256_A-4':\n",
        "        'https://tfhub.dev/tensorflow/small_bert/bert_en_uncased_L-6_H-256_A-4/1',\n",
        "    'small_bert/bert_en_uncased_L-6_H-512_A-8':\n",
        "        'https://tfhub.dev/tensorflow/small_bert/bert_en_uncased_L-6_H-512_A-8/1',\n",
        "    'small_bert/bert_en_uncased_L-6_H-768_A-12':\n",
        "        'https://tfhub.dev/tensorflow/small_bert/bert_en_uncased_L-6_H-768_A-12/1',\n",
        "    'small_bert/bert_en_uncased_L-8_H-128_A-2':\n",
        "        'https://tfhub.dev/tensorflow/small_bert/bert_en_uncased_L-8_H-128_A-2/1',\n",
        "    'small_bert/bert_en_uncased_L-8_H-256_A-4':\n",
        "        'https://tfhub.dev/tensorflow/small_bert/bert_en_uncased_L-8_H-256_A-4/1',\n",
        "    'small_bert/bert_en_uncased_L-8_H-512_A-8':\n",
        "        'https://tfhub.dev/tensorflow/small_bert/bert_en_uncased_L-8_H-512_A-8/1',\n",
        "    'small_bert/bert_en_uncased_L-8_H-768_A-12':\n",
        "        'https://tfhub.dev/tensorflow/small_bert/bert_en_uncased_L-8_H-768_A-12/1',\n",
        "    'small_bert/bert_en_uncased_L-10_H-128_A-2':\n",
        "        'https://tfhub.dev/tensorflow/small_bert/bert_en_uncased_L-10_H-128_A-2/1',\n",
        "    'small_bert/bert_en_uncased_L-10_H-256_A-4':\n",
        "        'https://tfhub.dev/tensorflow/small_bert/bert_en_uncased_L-10_H-256_A-4/1',\n",
        "    'small_bert/bert_en_uncased_L-10_H-512_A-8':\n",
        "        'https://tfhub.dev/tensorflow/small_bert/bert_en_uncased_L-10_H-512_A-8/1',\n",
        "    'small_bert/bert_en_uncased_L-10_H-768_A-12':\n",
        "        'https://tfhub.dev/tensorflow/small_bert/bert_en_uncased_L-10_H-768_A-12/1',\n",
        "    'small_bert/bert_en_uncased_L-12_H-128_A-2':\n",
        "        'https://tfhub.dev/tensorflow/small_bert/bert_en_uncased_L-12_H-128_A-2/1',\n",
        "    'small_bert/bert_en_uncased_L-12_H-256_A-4':\n",
        "        'https://tfhub.dev/tensorflow/small_bert/bert_en_uncased_L-12_H-256_A-4/1',\n",
        "    'small_bert/bert_en_uncased_L-12_H-512_A-8':\n",
        "        'https://tfhub.dev/tensorflow/small_bert/bert_en_uncased_L-12_H-512_A-8/1',\n",
        "    'small_bert/bert_en_uncased_L-12_H-768_A-12':\n",
        "        'https://tfhub.dev/tensorflow/small_bert/bert_en_uncased_L-12_H-768_A-12/1',\n",
        "    'albert_en_base':\n",
        "        'https://tfhub.dev/tensorflow/albert_en_base/2',\n",
        "    'electra_small':\n",
        "        'https://tfhub.dev/google/electra_small/2',\n",
        "    'electra_base':\n",
        "        'https://tfhub.dev/google/electra_base/2',\n",
        "    'experts_pubmed':\n",
        "        'https://tfhub.dev/google/experts/bert/pubmed/2',\n",
        "    'experts_wiki_books':\n",
        "        'https://tfhub.dev/google/experts/bert/wiki_books/2',\n",
        "    'talking-heads_base':\n",
        "        'https://tfhub.dev/tensorflow/talkheads_ggelu_bert_en_base/1',\n",
        "}\n",
        "\n",
        "map_model_to_preprocess = {\n",
        "    'bert_en_uncased_L-12_H-768_A-12':\n",
        "        'https://tfhub.dev/tensorflow/bert_en_uncased_preprocess/1',\n",
        "    'bert_en_cased_L-12_H-768_A-12':\n",
        "        'https://tfhub.dev/tensorflow/bert_en_cased_preprocess/1',\n",
        "    'small_bert/bert_en_uncased_L-2_H-128_A-2':\n",
        "        'https://tfhub.dev/tensorflow/bert_en_uncased_preprocess/1',\n",
        "    'small_bert/bert_en_uncased_L-2_H-256_A-4':\n",
        "        'https://tfhub.dev/tensorflow/bert_en_uncased_preprocess/1',\n",
        "    'small_bert/bert_en_uncased_L-2_H-512_A-8':\n",
        "        'https://tfhub.dev/tensorflow/bert_en_uncased_preprocess/1',\n",
        "    'small_bert/bert_en_uncased_L-2_H-768_A-12':\n",
        "        'https://tfhub.dev/tensorflow/bert_en_uncased_preprocess/1',\n",
        "    'small_bert/bert_en_uncased_L-4_H-128_A-2':\n",
        "        'https://tfhub.dev/tensorflow/bert_en_uncased_preprocess/1',\n",
        "    'small_bert/bert_en_uncased_L-4_H-256_A-4':\n",
        "        'https://tfhub.dev/tensorflow/bert_en_uncased_preprocess/1',\n",
        "    'small_bert/bert_en_uncased_L-4_H-512_A-8':\n",
        "        'https://tfhub.dev/tensorflow/bert_en_uncased_preprocess/1',\n",
        "    'small_bert/bert_en_uncased_L-4_H-768_A-12':\n",
        "        'https://tfhub.dev/tensorflow/bert_en_uncased_preprocess/1',\n",
        "    'small_bert/bert_en_uncased_L-6_H-128_A-2':\n",
        "        'https://tfhub.dev/tensorflow/bert_en_uncased_preprocess/1',\n",
        "    'small_bert/bert_en_uncased_L-6_H-256_A-4':\n",
        "        'https://tfhub.dev/tensorflow/bert_en_uncased_preprocess/1',\n",
        "    'small_bert/bert_en_uncased_L-6_H-512_A-8':\n",
        "        'https://tfhub.dev/tensorflow/bert_en_uncased_preprocess/1',\n",
        "    'small_bert/bert_en_uncased_L-6_H-768_A-12':\n",
        "        'https://tfhub.dev/tensorflow/bert_en_uncased_preprocess/1',\n",
        "    'small_bert/bert_en_uncased_L-8_H-128_A-2':\n",
        "        'https://tfhub.dev/tensorflow/bert_en_uncased_preprocess/1',\n",
        "    'small_bert/bert_en_uncased_L-8_H-256_A-4':\n",
        "        'https://tfhub.dev/tensorflow/bert_en_uncased_preprocess/1',\n",
        "    'small_bert/bert_en_uncased_L-8_H-512_A-8':\n",
        "        'https://tfhub.dev/tensorflow/bert_en_uncased_preprocess/1',\n",
        "    'small_bert/bert_en_uncased_L-8_H-768_A-12':\n",
        "        'https://tfhub.dev/tensorflow/bert_en_uncased_preprocess/1',\n",
        "    'small_bert/bert_en_uncased_L-10_H-128_A-2':\n",
        "        'https://tfhub.dev/tensorflow/bert_en_uncased_preprocess/1',\n",
        "    'small_bert/bert_en_uncased_L-10_H-256_A-4':\n",
        "        'https://tfhub.dev/tensorflow/bert_en_uncased_preprocess/1',\n",
        "    'small_bert/bert_en_uncased_L-10_H-512_A-8':\n",
        "        'https://tfhub.dev/tensorflow/bert_en_uncased_preprocess/1',\n",
        "    'small_bert/bert_en_uncased_L-10_H-768_A-12':\n",
        "        'https://tfhub.dev/tensorflow/bert_en_uncased_preprocess/1',\n",
        "    'small_bert/bert_en_uncased_L-12_H-128_A-2':\n",
        "        'https://tfhub.dev/tensorflow/bert_en_uncased_preprocess/1',\n",
        "    'small_bert/bert_en_uncased_L-12_H-256_A-4':\n",
        "        'https://tfhub.dev/tensorflow/bert_en_uncased_preprocess/1',\n",
        "    'small_bert/bert_en_uncased_L-12_H-512_A-8':\n",
        "        'https://tfhub.dev/tensorflow/bert_en_uncased_preprocess/1',\n",
        "    'small_bert/bert_en_uncased_L-12_H-768_A-12':\n",
        "        'https://tfhub.dev/tensorflow/bert_en_uncased_preprocess/1',\n",
        "    'bert_multi_cased_L-12_H-768_A-12':\n",
        "        'https://tfhub.dev/tensorflow/bert_multi_cased_preprocess/1',\n",
        "    'albert_en_base':\n",
        "        'https://tfhub.dev/tensorflow/albert_en_preprocess/1',\n",
        "    'electra_small':\n",
        "        'https://tfhub.dev/tensorflow/bert_en_uncased_preprocess/1',\n",
        "    'electra_base':\n",
        "        'https://tfhub.dev/tensorflow/bert_en_uncased_preprocess/1',\n",
        "    'experts_pubmed':\n",
        "        'https://tfhub.dev/tensorflow/bert_en_uncased_preprocess/1',\n",
        "    'experts_wiki_books':\n",
        "        'https://tfhub.dev/tensorflow/bert_en_uncased_preprocess/1',\n",
        "    'talking-heads_base':\n",
        "        'https://tfhub.dev/tensorflow/bert_en_uncased_preprocess/1',\n",
        "}\n",
        "\n",
        "tfhub_handle_encoder = map_name_to_handle[bert_model_name]\n",
        "tfhub_handle_preprocess = map_model_to_preprocess[bert_model_name]\n",
        "\n",
        "print(f'BERT model selected           : {tfhub_handle_encoder}')\n",
        "print(f'Preprocess model auto-selected: {tfhub_handle_preprocess}')"
      ],
      "execution_count": 8,
      "outputs": [
        {
          "output_type": "stream",
          "text": [
            "BERT model selected           : https://tfhub.dev/tensorflow/bert_en_uncased_L-12_H-768_A-12/3\n",
            "Preprocess model auto-selected: https://tfhub.dev/tensorflow/bert_en_uncased_preprocess/1\n"
          ],
          "name": "stdout"
        }
      ]
    },
    {
      "cell_type": "code",
      "metadata": {
        "id": "kM5ScE0-T5oJ"
      },
      "source": [
        "bert_preprocess_model = hub.KerasLayer(tfhub_handle_preprocess)\n",
        "bert_model = hub.KerasLayer(tfhub_handle_encoder)"
      ],
      "execution_count": null,
      "outputs": []
    },
    {
      "cell_type": "code",
      "metadata": {
        "id": "u5dPUooXT9ek"
      },
      "source": [
        "def build_classifier_model():\n",
        "    text_input = tf.keras.layers.Input(shape=(), dtype=tf.string, name='text')\n",
        "    preprocessing_layer = hub.KerasLayer(tfhub_handle_preprocess, name='preprocessing')\n",
        "    encoder_inputs = preprocessing_layer(text_input)\n",
        "    encoder = hub.KerasLayer(tfhub_handle_encoder, trainable=True)\n",
        "    outputs = encoder(encoder_inputs)\n",
        "    net = outputs['pooled_output']\n",
        "    net = tf.keras.layers.Dense(256, activation='relu', name='classifier1')(net)\n",
        "    net = tf.keras.layers.Dropout(0.1)(net)\n",
        "    net = tf.keras.layers.Dense(3, activation='softmax', name='classifier3')(net)\n",
        "    return tf.keras.Model(text_input, net)"
      ],
      "execution_count": 10,
      "outputs": []
    },
    {
      "cell_type": "code",
      "metadata": {
        "id": "P1V0TNxNT_RX"
      },
      "source": [
        "classifier_model = build_classifier_model()"
      ],
      "execution_count": null,
      "outputs": []
    },
    {
      "cell_type": "markdown",
      "metadata": {
        "id": "43FzJf8bimaQ"
      },
      "source": [
        "define training params"
      ]
    },
    {
      "cell_type": "code",
      "metadata": {
        "id": "vnfuYKiZUEyQ"
      },
      "source": [
        "epochs = 15\n",
        "batch_size = 32\n",
        "eval_batch_size = 32\n",
        "\n",
        "train_data_size = len(x_train)\n",
        "steps_per_epoch = int(train_data_size / batch_size)\n",
        "num_train_steps = steps_per_epoch * epochs\n",
        "warmup_steps = int(epochs * train_data_size * 0.1 / batch_size)\n",
        "\n",
        "# creates an optimizer with learning rate schedule\n",
        "optimizer = optimization.create_optimizer(\n",
        "    2e-5, num_train_steps=num_train_steps, num_warmup_steps=warmup_steps)"
      ],
      "execution_count": 12,
      "outputs": []
    },
    {
      "cell_type": "code",
      "metadata": {
        "id": "jQv7dh7HUJxh"
      },
      "source": [
        "classifier_model.compile(loss='categorical_crossentropy', optimizer=optimizer, metrics=['accuracy'])"
      ],
      "execution_count": null,
      "outputs": []
    },
    {
      "cell_type": "markdown",
      "metadata": {
        "id": "OpQYcas_ivkI"
      },
      "source": [
        "Train and validate model"
      ]
    },
    {
      "cell_type": "code",
      "metadata": {
        "id": "G2TT2eYfUJ4Q"
      },
      "source": [
        "history = classifier_model.fit(x=x_train,\n",
        "                               y=y_train,\n",
        "                               validation_data=(x_test, y_test),\n",
        "                               batch_size=batch_size,\n",
        "                               epochs=epochs\n",
        "                               )\n",
        "\n"
      ],
      "execution_count": null,
      "outputs": []
    },
    {
      "cell_type": "markdown",
      "metadata": {
        "id": "MgAacE1biyd1"
      },
      "source": [
        "Plot results"
      ]
    },
    {
      "cell_type": "code",
      "metadata": {
        "colab": {
          "base_uri": "https://localhost:8080/",
          "height": 623
        },
        "id": "gVV-ggJaZ0ii",
        "outputId": "93fe09bc-9005-4bad-db8e-6bd5e751ef50"
      },
      "source": [
        "%matplotlib inline\n",
        "import matplotlib.pyplot as plt\n",
        "\n",
        "plt.figure(figsize=(10,10))\n",
        "plt.title(\"Real & Predicted S&P 500 Index\", fontsize=14)\n",
        "plt.xlabel(\"Time (Days)\")\n",
        "plt.ylabel(\"Price (USD)\")\n",
        "plt.plot(history.history['accuracy'], label='train')\n",
        "plt.plot(history.history['val_accuracy'], label='test')\n",
        "plt.legend()\n",
        "plt.show()"
      ],
      "execution_count": 15,
      "outputs": [
        {
          "output_type": "display_data",
          "data": {
            "image/png": "[encoded data removed]",
            "text/plain": [
              "<Figure size 720x720 with 1 Axes>"
            ]
          },
          "metadata": {
            "tags": [],
            "needs_background": "light"
          }
        }
      ]
    },
    {
      "cell_type": "code",
      "metadata": {
        "id": "0StOx2FmUMma",
        "colab": {
          "base_uri": "https://localhost:8080/"
        },
        "outputId": "89c4d0a7-5c78-4756-baf1-6c8827d314e7"
      },
      "source": [
        "loss, accuracy = classifier_model.evaluate(x_test, y_test, batch_size = 32)\n",
        "\n",
        "print(f'Loss: {loss}')\n",
        "print(f'Accuracy: {accuracy}')"
      ],
      "execution_count": 16,
      "outputs": [
        {
          "output_type": "stream",
          "text": [
            "Executing op ReadVariableOp in device /job:localhost/replica:0/task:0/device:GPU:0\n",
            "Executing op Identity in device /job:localhost/replica:0/task:0/device:GPU:0\n",
            "Executing op RangeDataset in device /job:localhost/replica:0/task:0/device:CPU:0\n",
            "Executing op RepeatDataset in device /job:localhost/replica:0/task:0/device:CPU:0\n",
            "Executing op MapDataset in device /job:localhost/replica:0/task:0/device:CPU:0\n",
            "Executing op PrefetchDataset in device /job:localhost/replica:0/task:0/device:CPU:0\n",
            "Executing op FlatMapDataset in device /job:localhost/replica:0/task:0/device:CPU:0\n",
            "Executing op TensorDataset in device /job:localhost/replica:0/task:0/device:CPU:0\n",
            "Executing op RepeatDataset in device /job:localhost/replica:0/task:0/device:CPU:0\n",
            "Executing op ZipDataset in device /job:localhost/replica:0/task:0/device:CPU:0\n",
            "Executing op ParallelMapDatasetV2 in device /job:localhost/replica:0/task:0/device:CPU:0\n",
            "Executing op AssignVariableOp in device /job:localhost/replica:0/task:0/device:GPU:0\n",
            "Executing op ModelDataset in device /job:localhost/replica:0/task:0/device:CPU:0\n",
            "Executing op AnonymousIteratorV2 in device /job:localhost/replica:0/task:0/device:CPU:0\n",
            "Executing op MakeIterator in device /job:localhost/replica:0/task:0/device:CPU:0\n",
            "Executing op AssignVariableOp in device /job:localhost/replica:0/task:0/device:GPU:0\n",
            "Executing op AssignVariableOp in device /job:localhost/replica:0/task:0/device:GPU:0\n",
            "Executing op AssignVariableOp in device /job:localhost/replica:0/task:0/device:GPU:0\n",
            "Executing op AssignVariableOp in device /job:localhost/replica:0/task:0/device:GPU:0\n",
            "Executing op __inference_test_function_156005 in device /job:localhost/replica:0/task:0/device:GPU:0\n",
            " 1/31 [..............................] - ETA: 0s - loss: 1.0717 - accuracy: 0.8438Executing op __inference_test_function_156005 in device /job:localhost/replica:0/task:0/device:GPU:0\n",
            " 2/31 [>.............................] - ETA: 4s - loss: 0.8912 - accuracy: 0.8594Executing op __inference_test_function_156005 in device /job:localhost/replica:0/task:0/device:GPU:0\n",
            " 3/31 [=>............................] - ETA: 6s - loss: 0.8209 - accuracy: 0.8542Executing op __inference_test_function_156005 in device /job:localhost/replica:0/task:0/device:GPU:0\n",
            " 4/31 [==>...........................] - ETA: 6s - loss: 0.6297 - accuracy: 0.8828Executing op __inference_test_function_156005 in device /job:localhost/replica:0/task:0/device:GPU:0\n",
            " 5/31 [===>..........................] - ETA: 6s - loss: 0.6321 - accuracy: 0.8687Executing op __inference_test_function_156005 in device /job:localhost/replica:0/task:0/device:GPU:0\n",
            " 6/31 [====>.........................] - ETA: 6s - loss: 0.6457 - accuracy: 0.8594Executing op __inference_test_function_156005 in device /job:localhost/replica:0/task:0/device:GPU:0\n",
            " 7/31 [=====>........................] - ETA: 6s - loss: 0.6829 - accuracy: 0.8571Executing op __inference_test_function_156005 in device /job:localhost/replica:0/task:0/device:GPU:0\n",
            " 8/31 [======>.......................] - ETA: 6s - loss: 0.6921 - accuracy: 0.8555Executing op __inference_test_function_156005 in device /job:localhost/replica:0/task:0/device:GPU:0\n",
            " 9/31 [=======>......................] - ETA: 6s - loss: 0.6963 - accuracy: 0.8542Executing op __inference_test_function_156005 in device /job:localhost/replica:0/task:0/device:GPU:0\n",
            "10/31 [========>.....................] - ETA: 6s - loss: 0.7675 - accuracy: 0.8469Executing op __inference_test_function_156005 in device /job:localhost/replica:0/task:0/device:GPU:0\n",
            "11/31 [=========>....................] - ETA: 5s - loss: 0.7770 - accuracy: 0.8438Executing op __inference_test_function_156005 in device /job:localhost/replica:0/task:0/device:GPU:0\n",
            "12/31 [==========>...................] - ETA: 5s - loss: 0.7742 - accuracy: 0.8411Executing op __inference_test_function_156005 in device /job:localhost/replica:0/task:0/device:GPU:0\n",
            "13/31 [===========>..................] - ETA: 5s - loss: 0.8015 - accuracy: 0.8389Executing op __inference_test_function_156005 in device /job:localhost/replica:0/task:0/device:GPU:0\n",
            "14/31 [============>.................] - ETA: 5s - loss: 0.7786 - accuracy: 0.8438Executing op __inference_test_function_156005 in device /job:localhost/replica:0/task:0/device:GPU:0\n",
            "15/31 [=============>................] - ETA: 4s - loss: 0.7674 - accuracy: 0.8458Executing op __inference_test_function_156005 in device /job:localhost/replica:0/task:0/device:GPU:0\n",
            "16/31 [==============>...............] - ETA: 4s - loss: 0.7731 - accuracy: 0.8438Executing op __inference_test_function_156005 in device /job:localhost/replica:0/task:0/device:GPU:0\n",
            "17/31 [===============>..............] - ETA: 4s - loss: 0.7999 - accuracy: 0.8401Executing op __inference_test_function_156005 in device /job:localhost/replica:0/task:0/device:GPU:0\n",
            "18/31 [================>.............] - ETA: 3s - loss: 0.7770 - accuracy: 0.8403Executing op __inference_test_function_156005 in device /job:localhost/replica:0/task:0/device:GPU:0\n",
            "19/31 [=================>............] - ETA: 3s - loss: 0.7594 - accuracy: 0.8405Executing op __inference_test_function_156005 in device /job:localhost/replica:0/task:0/device:GPU:0\n",
            "20/31 [==================>...........] - ETA: 3s - loss: 0.7733 - accuracy: 0.8375Executing op __inference_test_function_156005 in device /job:localhost/replica:0/task:0/device:GPU:0\n",
            "21/31 [===================>..........] - ETA: 3s - loss: 0.7825 - accuracy: 0.8393Executing op __inference_test_function_156005 in device /job:localhost/replica:0/task:0/device:GPU:0\n",
            "22/31 [====================>.........] - ETA: 2s - loss: 0.7719 - accuracy: 0.8438Executing op __inference_test_function_156005 in device /job:localhost/replica:0/task:0/device:GPU:0\n",
            "23/31 [=====================>........] - ETA: 2s - loss: 0.7595 - accuracy: 0.8478Executing op __inference_test_function_156005 in device /job:localhost/replica:0/task:0/device:GPU:0\n",
            "24/31 [======================>.......] - ETA: 2s - loss: 0.7662 - accuracy: 0.8477Executing op __inference_test_function_156005 in device /job:localhost/replica:0/task:0/device:GPU:0\n",
            "25/31 [=======================>......] - ETA: 1s - loss: 0.7656 - accuracy: 0.8475Executing op __inference_test_function_156005 in device /job:localhost/replica:0/task:0/device:GPU:0\n",
            "26/31 [========================>.....] - ETA: 1s - loss: 0.7594 - accuracy: 0.8474Executing op __inference_test_function_156005 in device /job:localhost/replica:0/task:0/device:GPU:0\n",
            "27/31 [=========================>....] - ETA: 1s - loss: 0.7568 - accuracy: 0.8472Executing op __inference_test_function_156005 in device /job:localhost/replica:0/task:0/device:GPU:0\n",
            "28/31 [==========================>...] - ETA: 0s - loss: 0.7618 - accuracy: 0.8482Executing op __inference_test_function_156005 in device /job:localhost/replica:0/task:0/device:GPU:0\n",
            "29/31 [===========================>..] - ETA: 0s - loss: 0.7829 - accuracy: 0.8427Executing op __inference_test_function_156005 in device /job:localhost/replica:0/task:0/device:GPU:0\n",
            "30/31 [============================>.] - ETA: 0s - loss: 0.7737 - accuracy: 0.8438Executing op __inference_test_function_156005 in device /job:localhost/replica:0/task:0/device:GPU:0\n",
            "31/31 [==============================] - 9s 304ms/step - loss: 0.7739 - accuracy: 0.8443\n",
            "Executing op DeleteIterator in device /job:localhost/replica:0/task:0/device:CPU:0\n",
            "Loss: 0.7739100456237793\n",
            "Accuracy: 0.8443298935890198\n"
          ],
          "name": "stdout"
        }
      ]
    },
    {
      "cell_type": "code",
      "metadata": {
        "id": "C0ZR41I1x6l8"
      },
      "source": [
        "classifier_model.save('/content/drive/My Drive/FISA_model3')"
      ],
      "execution_count": null,
      "outputs": []
    },
    {
      "cell_type": "markdown",
      "metadata": {
        "id": "rvFqZ9Ed-Opz"
      },
      "source": [
        "# Transformer (xlnet)"
      ]
    },
    {
      "cell_type": "markdown",
      "metadata": {
        "id": "PbMwdAXyi1Ie"
      },
      "source": [
        "Import requirements"
      ]
    },
    {
      "cell_type": "code",
      "metadata": {
        "id": "JkpraIcP-cWQ"
      },
      "source": [
        "!pip install transformers\n",
        "!pip install --upgrade tensorflow"
      ],
      "execution_count": null,
      "outputs": []
    },
    {
      "cell_type": "code",
      "metadata": {
        "id": "Qbg9AtHJ-hgA",
        "colab": {
          "base_uri": "https://localhost:8080/",
          "height": 67,
          "referenced_widgets": [
            "2c9933b1a1f34034897df2a08a8eaa97",
            "84d23a9459264b369570a216559a8507",
            "50c33801a3984269af1d4d925dd1fa29",
            "27304872049a444ca0723156d7cf3737",
            "9b64b55c56fe46f795aa8b6fa0a1c908",
            "8c354e5ce0c74fb7a2272b0b096a7310",
            "11adadce153642e99416eaabe3c7eccc",
            "4198e985fd964bc9be45d30d1b49c760"
          ]
        },
        "outputId": "e36facb7-afd9-47fa-c474-81b3a2a35a35"
      },
      "source": [
        "import pandas as pd\n",
        "import tensorflow as tf\n",
        "from sklearn.model_selection import train_test_split\n",
        "from tensorflow.keras.losses import CategoricalCrossentropy\n",
        "from tensorflow.keras.metrics import CategoricalAccuracy\n",
        "\n",
        "# from transformers import BertTokenizer\n",
        "# from transformers import TFBertForSequenceClassification\n",
        "# tokenizer = BertTokenizer.from_pretrained('bert-base-cased', do_lower_case=True)\n",
        "\n",
        "from transformers import XLNetTokenizer\n",
        "from transformers import TFXLNetForSequenceClassification\n",
        "tokenizer = XLNetTokenizer.from_pretrained('xlnet-base-cased', do_lower_case=True)\n",
        "\n",
        "\n",
        "# from transformers import RobertaTokenizer\n",
        "# from transformers import TFRobertaForSequenceClassification\n",
        "# tokenizer = RobertaTokenizer.from_pretrained('roberta-base', do_lower_case=True)"
      ],
      "execution_count": 18,
      "outputs": [
        {
          "output_type": "display_data",
          "data": {
            "application/vnd.jupyter.widget-view+json": {
              "model_id": "2c9933b1a1f34034897df2a08a8eaa97",
              "version_minor": 0,
              "version_major": 2
            },
            "text/plain": [
              "HBox(children=(FloatProgress(value=0.0, description='Downloading', max=798011.0, style=ProgressStyle(descripti…"
            ]
          },
          "metadata": {
            "tags": []
          }
        },
        {
          "output_type": "stream",
          "text": [
            "\n"
          ],
          "name": "stdout"
        }
      ]
    },
    {
      "cell_type": "code",
      "metadata": {
        "id": "hWhqIXLF-irC"
      },
      "source": [
        "data = pd.read_csv('/content/drive/My Drive/all-data.csv', encoding='latin-1', names=['sentiment', 'text'])\n",
        "data[\"sentiment\"] = pd.Series(list(to_categorical(data.sentiment)))\n",
        "ds_train, ds_test = train_test_split(data, test_size=0.2)\n",
        "ds_train, ds_val = train_test_split(ds_train, test_size=0.2)"
      ],
      "execution_count": 19,
      "outputs": []
    },
    {
      "cell_type": "markdown",
      "metadata": {
        "id": "9MoQenG-i8UH"
      },
      "source": [
        "Define text manipulation functions"
      ]
    },
    {
      "cell_type": "code",
      "metadata": {
        "id": "XenxxrHK-iwE"
      },
      "source": [
        "def convert_example_to_feature(text, max_length):\n",
        "  # combine step for tokenization, WordPiece vector mapping, adding special tokens as well as truncating reviews longer than the max length\n",
        "    return tokenizer.encode_plus(text, \n",
        "                add_special_tokens = True, # add [CLS], [SEP]\n",
        "                max_length = max_length, # max length of the text that can go to BERT\n",
        "                pad_to_max_length = True, # add [PAD] tokens\n",
        "                return_attention_mask = True, # add attention mask to not focus on pad tokens\n",
        "                truncation=True\n",
        "              )\n",
        "# map to the expected input to TFBertForSequenceClassification, see here \n",
        "def map_example_to_dict(input_ids, attention_masks, token_type_ids, label):\n",
        "    return {\n",
        "      \"input_ids\": input_ids,\n",
        "      \"token_type_ids\": token_type_ids,\n",
        "      \"attention_mask\": attention_masks,\n",
        "  }, label\n",
        "\n",
        "# def map_example_to_dict(input_ids, attention_masks, token_type_ids, label):\n",
        "#     return [input_ids, attention_masks, token_type_ids], label\n",
        "\n",
        "def encode_examples(data):\n",
        "  input_ids = []\n",
        "  sentences = []\n",
        "  labels = []\n",
        "\n",
        "  for _, row in data.iterrows():\n",
        "    sentences.append(row[\"text\"])\n",
        "    labels.append(row[\"sentiment\"])\n",
        "\n",
        "  max_len = 0\n",
        "\n",
        "  # This step is only getting max_length\n",
        "  for sent in sentences:\n",
        "      input_ids = tokenizer.encode(sent, add_special_tokens=True) # Tokenize the text and add `[CLS]` and `[SEP]` tokens.\n",
        "      max_len = max(max_len, len(input_ids)) # Update the maximum sentence length.\n",
        "\n",
        "  print('Max sentence length: ', max_len)\n",
        "\n",
        "  input_ids = [] # reset input_ids\n",
        "  token_type_ids = []\n",
        "  attention_masks = []\n",
        "  # For every sentence...\n",
        "  for sent in sentences:\n",
        "      encoded_dict = convert_example_to_feature(sent, max_len)\n",
        "      input_ids.append(encoded_dict['input_ids'])\n",
        "      token_type_ids.append(encoded_dict['token_type_ids'])\n",
        "      attention_masks.append(encoded_dict['attention_mask'])\n",
        "  tf_ds = tf.data.Dataset.from_tensor_slices((input_ids, attention_masks, token_type_ids, labels)).map(map_example_to_dict)\n",
        "  return tf_ds"
      ],
      "execution_count": 20,
      "outputs": []
    },
    {
      "cell_type": "markdown",
      "metadata": {
        "id": "InMF1rnzjAje"
      },
      "source": [
        "Define training params"
      ]
    },
    {
      "cell_type": "code",
      "metadata": {
        "id": "EJEPXl5J-i0C"
      },
      "source": [
        "batch_size = 32\n",
        "ds_train_encoded = encode_examples(ds_train).shuffle(10000).batch(batch_size)\n",
        "ds_val_encoded = encode_examples(ds_val).shuffle(10000).batch(batch_size)\n",
        "ds_test_encoded = encode_examples(ds_test).batch(batch_size)"
      ],
      "execution_count": null,
      "outputs": []
    },
    {
      "cell_type": "code",
      "metadata": {
        "id": "fdOhucRKLVbh"
      },
      "source": [
        "# model = TFBertForSequenceClassification.from_pretrained('bert-base-cased', num_labels=3)\n",
        "model = TFXLNetForSequenceClassification.from_pretrained('xlnet-base-cased', num_labels=3)\n",
        "# model = TFRobertaForSequenceClassification.from_pretrained('roberta-base', num_labels=3)"
      ],
      "execution_count": null,
      "outputs": []
    },
    {
      "cell_type": "code",
      "metadata": {
        "id": "tltTKG1--i47"
      },
      "source": [
        "optimizer = tf.keras.optimizers.Adam(learning_rate=1e-5, epsilon=1e-08)  # recommended learning rate for Adam 5e-5, 3e-5, 2e-5\n",
        "loss = CategoricalCrossentropy(from_logits=True)\n",
        "metric = CategoricalAccuracy('accuracy')\n",
        "model.compile(optimizer=optimizer, loss=loss, metrics=[metric])"
      ],
      "execution_count": null,
      "outputs": []
    },
    {
      "cell_type": "markdown",
      "metadata": {
        "id": "AJ6D2cpVjD39"
      },
      "source": [
        "Train and validate model"
      ]
    },
    {
      "cell_type": "code",
      "metadata": {
        "id": "OpCjQG2F-xYA"
      },
      "source": [
        "epochs=10\n",
        "history = model.fit(ds_train_encoded, epochs=epochs, validation_data=ds_val_encoded)"
      ],
      "execution_count": null,
      "outputs": []
    },
    {
      "cell_type": "markdown",
      "metadata": {
        "id": "ejUrZS0YjHQz"
      },
      "source": [
        "Plot results"
      ]
    },
    {
      "cell_type": "code",
      "metadata": {
        "id": "Dvpu5ZANLccM",
        "colab": {
          "base_uri": "https://localhost:8080/",
          "height": 700
        },
        "outputId": "32199599-4630-4ec7-9033-b16685c71e34"
      },
      "source": [
        "%matplotlib inline\n",
        "import matplotlib.pyplot as plt\n",
        "\n",
        "plt.figure(figsize=(12,12))\n",
        "plt.plot(history.history['accuracy'], label='train')\n",
        "plt.plot(history.history['val_accuracy'], label='test')\n",
        "plt.legend()\n",
        "plt.show()"
      ],
      "execution_count": 25,
      "outputs": [
        {
          "output_type": "display_data",
          "data": {
            "image/png": "[encoded data removed]",
            "text/plain": [
              "<Figure size 864x864 with 1 Axes>"
            ]
          },
          "metadata": {
            "tags": [],
            "needs_background": "light"
          }
        }
      ]
    },
    {
      "cell_type": "code",
      "metadata": {
        "id": "Ad4VjB4lLfK_",
        "colab": {
          "base_uri": "https://localhost:8080/"
        },
        "outputId": "a68dba37-febd-4ad3-f58c-7b382159cb3a"
      },
      "source": [
        "loss, accuracy = model.evaluate(ds_test_encoded, batch_size = 32)\n",
        "\n",
        "print(f'Loss: {loss}')\n",
        "print(f'Accuracy: {accuracy}')"
      ],
      "execution_count": 26,
      "outputs": [
        {
          "output_type": "stream",
          "text": [
            "Executing op ReadVariableOp in device /job:localhost/replica:0/task:0/device:GPU:0\n",
            "Executing op Identity in device /job:localhost/replica:0/task:0/device:GPU:0\n",
            "Executing op DatasetCardinality in device /job:localhost/replica:0/task:0/device:CPU:0\n",
            "Executing op DatasetCardinality in device /job:localhost/replica:0/task:0/device:CPU:0\n",
            "Executing op Equal in device /job:localhost/replica:0/task:0/device:GPU:0\n",
            "Executing op GreaterEqual in device /job:localhost/replica:0/task:0/device:GPU:0\n",
            "Executing op AssignVariableOp in device /job:localhost/replica:0/task:0/device:GPU:0\n",
            "Executing op OptimizeDataset in device /job:localhost/replica:0/task:0/device:CPU:0\n",
            "Executing op ModelDataset in device /job:localhost/replica:0/task:0/device:CPU:0\n",
            "Executing op AnonymousIteratorV2 in device /job:localhost/replica:0/task:0/device:CPU:0\n",
            "Executing op MakeIterator in device /job:localhost/replica:0/task:0/device:CPU:0\n",
            "Executing op OptimizeDataset in device /job:localhost/replica:0/task:0/device:CPU:0\n",
            "Executing op ModelDataset in device /job:localhost/replica:0/task:0/device:CPU:0\n",
            "Executing op AnonymousIteratorV2 in device /job:localhost/replica:0/task:0/device:CPU:0\n",
            "Executing op MakeIterator in device /job:localhost/replica:0/task:0/device:CPU:0\n",
            "Executing op DeleteIterator in device /job:localhost/replica:0/task:0/device:CPU:0\n",
            "Executing op AssignVariableOp in device /job:localhost/replica:0/task:0/device:GPU:0\n",
            "Executing op AssignVariableOp in device /job:localhost/replica:0/task:0/device:GPU:0\n",
            "Executing op AssignVariableOp in device /job:localhost/replica:0/task:0/device:GPU:0\n",
            "Executing op AssignVariableOp in device /job:localhost/replica:0/task:0/device:GPU:0\n",
            "Executing op __inference_test_function_194134 in device /job:localhost/replica:0/task:0/device:GPU:0\n",
            " 1/31 [..............................] - ETA: 0s - loss: 0.5506 - accuracy: 0.8750Executing op __inference_test_function_194134 in device /job:localhost/replica:0/task:0/device:GPU:0\n",
            " 2/31 [>.............................] - ETA: 4s - loss: 0.3654 - accuracy: 0.9062Executing op __inference_test_function_194134 in device /job:localhost/replica:0/task:0/device:GPU:0\n",
            " 3/31 [=>............................] - ETA: 5s - loss: 0.4933 - accuracy: 0.8646Executing op __inference_test_function_194134 in device /job:localhost/replica:0/task:0/device:GPU:0\n",
            " 4/31 [==>...........................] - ETA: 6s - loss: 0.4636 - accuracy: 0.8750Executing op __inference_test_function_194134 in device /job:localhost/replica:0/task:0/device:GPU:0\n",
            " 5/31 [===>..........................] - ETA: 6s - loss: 0.4383 - accuracy: 0.8750Executing op __inference_test_function_194134 in device /job:localhost/replica:0/task:0/device:GPU:0\n",
            " 6/31 [====>.........................] - ETA: 6s - loss: 0.4629 - accuracy: 0.8698Executing op __inference_test_function_194134 in device /job:localhost/replica:0/task:0/device:GPU:0\n",
            " 7/31 [=====>........................] - ETA: 6s - loss: 0.4824 - accuracy: 0.8661Executing op __inference_test_function_194134 in device /job:localhost/replica:0/task:0/device:GPU:0\n",
            " 8/31 [======>.......................] - ETA: 6s - loss: 0.5217 - accuracy: 0.8633Executing op __inference_test_function_194134 in device /job:localhost/replica:0/task:0/device:GPU:0\n",
            " 9/31 [=======>......................] - ETA: 5s - loss: 0.5279 - accuracy: 0.8681Executing op __inference_test_function_194134 in device /job:localhost/replica:0/task:0/device:GPU:0\n",
            "10/31 [========>.....................] - ETA: 5s - loss: 0.5235 - accuracy: 0.8625Executing op __inference_test_function_194134 in device /job:localhost/replica:0/task:0/device:GPU:0\n",
            "11/31 [=========>....................] - ETA: 5s - loss: 0.5178 - accuracy: 0.8636Executing op __inference_test_function_194134 in device /job:localhost/replica:0/task:0/device:GPU:0\n",
            "12/31 [==========>...................] - ETA: 5s - loss: 0.5267 - accuracy: 0.8620Executing op __inference_test_function_194134 in device /job:localhost/replica:0/task:0/device:GPU:0\n",
            "13/31 [===========>..................] - ETA: 4s - loss: 0.5875 - accuracy: 0.8534Executing op __inference_test_function_194134 in device /job:localhost/replica:0/task:0/device:GPU:0\n",
            "14/31 [============>.................] - ETA: 4s - loss: 0.5999 - accuracy: 0.8527Executing op __inference_test_function_194134 in device /job:localhost/replica:0/task:0/device:GPU:0\n",
            "15/31 [=============>................] - ETA: 4s - loss: 0.5897 - accuracy: 0.8479Executing op __inference_test_function_194134 in device /job:localhost/replica:0/task:0/device:GPU:0\n",
            "16/31 [==============>...............] - ETA: 4s - loss: 0.6053 - accuracy: 0.8477Executing op __inference_test_function_194134 in device /job:localhost/replica:0/task:0/device:GPU:0\n",
            "17/31 [===============>..............] - ETA: 3s - loss: 0.5796 - accuracy: 0.8529Executing op __inference_test_function_194134 in device /job:localhost/replica:0/task:0/device:GPU:0\n",
            "18/31 [================>.............] - ETA: 3s - loss: 0.5584 - accuracy: 0.8542Executing op __inference_test_function_194134 in device /job:localhost/replica:0/task:0/device:GPU:0\n",
            "19/31 [=================>............] - ETA: 3s - loss: 0.5512 - accuracy: 0.8569Executing op __inference_test_function_194134 in device /job:localhost/replica:0/task:0/device:GPU:0\n",
            "20/31 [==================>...........] - ETA: 3s - loss: 0.5327 - accuracy: 0.8609Executing op __inference_test_function_194134 in device /job:localhost/replica:0/task:0/device:GPU:0\n",
            "21/31 [===================>..........] - ETA: 2s - loss: 0.5257 - accuracy: 0.8631Executing op __inference_test_function_194134 in device /job:localhost/replica:0/task:0/device:GPU:0\n",
            "22/31 [====================>.........] - ETA: 2s - loss: 0.5339 - accuracy: 0.8636Executing op __inference_test_function_194134 in device /job:localhost/replica:0/task:0/device:GPU:0\n",
            "23/31 [=====================>........] - ETA: 2s - loss: 0.5438 - accuracy: 0.8641Executing op __inference_test_function_194134 in device /job:localhost/replica:0/task:0/device:GPU:0\n",
            "24/31 [======================>.......] - ETA: 2s - loss: 0.5556 - accuracy: 0.8607Executing op __inference_test_function_194134 in device /job:localhost/replica:0/task:0/device:GPU:0\n",
            "25/31 [=======================>......] - ETA: 1s - loss: 0.5770 - accuracy: 0.8575Executing op __inference_test_function_194134 in device /job:localhost/replica:0/task:0/device:GPU:0\n",
            "26/31 [========================>.....] - ETA: 1s - loss: 0.5766 - accuracy: 0.8582Executing op __inference_test_function_194134 in device /job:localhost/replica:0/task:0/device:GPU:0\n",
            "27/31 [=========================>....] - ETA: 1s - loss: 0.5801 - accuracy: 0.8588Executing op __inference_test_function_194134 in device /job:localhost/replica:0/task:0/device:GPU:0\n",
            "28/31 [==========================>...] - ETA: 0s - loss: 0.5708 - accuracy: 0.8616Executing op __inference_test_function_194134 in device /job:localhost/replica:0/task:0/device:GPU:0\n",
            "29/31 [===========================>..] - ETA: 0s - loss: 0.5552 - accuracy: 0.8631Executing op __inference_test_function_194134 in device /job:localhost/replica:0/task:0/device:GPU:0\n",
            "30/31 [============================>.] - ETA: 0s - loss: 0.5484 - accuracy: 0.8646Executing op __inference_test_function_194134 in device /job:localhost/replica:0/task:0/device:GPU:0\n",
            "31/31 [==============================] - 9s 284ms/step - loss: 0.5486 - accuracy: 0.8639\n",
            "Executing op DeleteIterator in device /job:localhost/replica:0/task:0/device:CPU:0\n",
            "Loss: 0.5486113429069519\n",
            "Accuracy: 0.8639175295829773\n"
          ],
          "name": "stdout"
        }
      ]
    }
  ]
}