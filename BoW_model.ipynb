{
  "nbformat": 4,
  "nbformat_minor": 0,
  "metadata": {
    "colab": {
      "name": "BoW model.ipynb",
      "provenance": [],
      "authorship_tag": "ABX9TyM2piAx0FPM+CNWf3TXvyD7",
      "include_colab_link": true
    },
    "kernelspec": {
      "name": "python3",
      "display_name": "Python 3"
    }
  },
  "cells": [
    {
      "cell_type": "markdown",
      "metadata": {
        "id": "view-in-github",
        "colab_type": "text"
      },
      "source": [
        "<a href=\"https://colab.research.google.com/github/cannonbunny/stock-sentiment-analysis/blob/master/BoW_model.ipynb\" target=\"_parent\"><img src=\"https://colab.research.google.com/assets/colab-badge.svg\" alt=\"Open In Colab\"/></a>"
      ]
    },
    {
      "cell_type": "markdown",
      "metadata": {
        "id": "pB5-8HMuQKVE"
      },
      "source": [
        "# Import requirements"
      ]
    },
    {
      "cell_type": "code",
      "metadata": {
        "colab": {
          "base_uri": "https://localhost:8080/"
        },
        "id": "gWT2StWAQjXs",
        "outputId": "fd3845a2-1885-4d6a-8e85-02ea7ce3aee5"
      },
      "source": [
        "%matplotlib inline\n",
        "import matplotlib.pyplot as plt\n",
        "\n",
        "import numpy as np\n",
        "import pandas as pd\n",
        "\n",
        "import nltk\n",
        "nltk.download('averaged_perceptron_tagger')\n",
        "nltk.download('stopwords')\n",
        "nltk.download('wordnet')\n",
        "nltk.download('punkt')\n",
        "\n",
        "from tensorflow import keras\n",
        "from string import punctuation\n",
        "\n",
        "from nltk.corpus import stopwords, wordnet\n",
        "from nltk import pos_tag\n",
        "from nltk.stem import WordNetLemmatizer\n",
        "from nltk.tokenize import word_tokenize\n",
        "\n",
        "from sklearn.feature_extraction.text import CountVectorizer\n",
        "from sklearn.model_selection import train_test_split\n",
        "\n",
        "from keras.layers import Dense, Dropout\n",
        "from keras.models import Sequential\n",
        "from keras.utils import to_categorical"
      ],
      "execution_count": null,
      "outputs": [
        {
          "output_type": "stream",
          "text": [
            "[nltk_data] Downloading package averaged_perceptron_tagger to\n",
            "[nltk_data]     /root/nltk_data...\n",
            "[nltk_data]   Unzipping taggers/averaged_perceptron_tagger.zip.\n",
            "[nltk_data] Downloading package stopwords to /root/nltk_data...\n",
            "[nltk_data]   Unzipping corpora/stopwords.zip.\n",
            "[nltk_data] Downloading package wordnet to /root/nltk_data...\n",
            "[nltk_data]   Unzipping corpora/wordnet.zip.\n",
            "[nltk_data] Downloading package punkt to /root/nltk_data...\n",
            "[nltk_data]   Unzipping tokenizers/punkt.zip.\n"
          ],
          "name": "stdout"
        }
      ]
    },
    {
      "cell_type": "code",
      "metadata": {
        "colab": {
          "base_uri": "https://localhost:8080/"
        },
        "id": "ZSoRJl3cQm6S",
        "outputId": "106eab8c-12e0-42f8-ad15-a09acf043175"
      },
      "source": [
        "from google.colab import drive\n",
        "drive.mount('/content/drive')\n",
        "sentiment = pd.read_csv('/content/drive/My Drive/all-data.csv', encoding='latin-1', names=['score', 'text'])\n",
        "sentiment['score'] = sentiment['score'].astype(int)"
      ],
      "execution_count": null,
      "outputs": [
        {
          "output_type": "stream",
          "text": [
            "Mounted at /content/drive\n"
          ],
          "name": "stdout"
        }
      ]
    },
    {
      "cell_type": "markdown",
      "metadata": {
        "id": "jhA9C9zRQOag"
      },
      "source": [
        "# Text cleaning and tokenizing"
      ]
    },
    {
      "cell_type": "code",
      "metadata": {
        "id": "M50EunwWQrs6"
      },
      "source": [
        "lemma = WordNetLemmatizer()\n",
        "stop = set(stopwords.words('english'))\n",
        "stop.update(punctuation)\n",
        "\n",
        "def token_text(t):\n",
        "    new_text = []\n",
        "    for w in word_tokenize(t):\n",
        "        if w.lower() not in stop:\n",
        "            pos = pos_tag([w])\n",
        "            pos_test = ''\n",
        "            if pos[0][1].startswith('V'):\n",
        "              pos_test = wordnet.VERB\n",
        "            elif pos[0][1].startswith('J'):\n",
        "                pos_test = wordnet.ADJ\n",
        "            elif pos[0][1].startswith('R'):\n",
        "                pos_test = wordnet.ADV\n",
        "            else:\n",
        "                pos_test = wordnet.NOUN\n",
        "            new_w = lemma.lemmatize(w, pos=pos_test)\n",
        "            new_text.append(new_w)\n",
        "    return ' '.join(new_text)"
      ],
      "execution_count": null,
      "outputs": []
    },
    {
      "cell_type": "code",
      "metadata": {
        "id": "DKEgMi0hRNhT"
      },
      "source": [
        "sentiment['text'] = sentiment['text'].apply(token_text)\n",
        "x_train,x_test,y_train,y_test = train_test_split(sentiment['text'],sentiment['score'],test_size = 0.2)\n",
        "count_vec = CountVectorizer(max_features=3200, ngram_range=(1,2))\n",
        "x_train_features = count_vec.fit_transform(x_train).todense()\n",
        "x_test_features = count_vec.transform(x_test).todense()\n",
        "y_train = to_categorical(y_train)\n",
        "y_test = to_categorical(y_test)"
      ],
      "execution_count": null,
      "outputs": []
    },
    {
      "cell_type": "markdown",
      "metadata": {
        "id": "KMQnjjwjQTiE"
      },
      "source": [
        "# Training, testing and plotting"
      ]
    },
    {
      "cell_type": "code",
      "metadata": {
        "id": "kCZJ3f56RSv-",
        "colab": {
          "base_uri": "https://localhost:8080/",
          "height": 606
        },
        "outputId": "ee0961df-edbe-440a-bb89-831ec94e983b"
      },
      "source": [
        "def get_bow_model(input_shape):\n",
        "  model = Sequential()\n",
        "  model.add(Dense(units=128, activation='relu', input_dim=input_shape))\n",
        "  model.add(Dropout(0.1))\n",
        "  model.add(Dense(units=128, activation='relu'))\n",
        "  model.add(Dropout(0.1))\n",
        "  model.add(Dense(units=3, activation='softmax'))\n",
        "  opt = keras.optimizers.Adam(learning_rate=0.001)\n",
        "  model.compile(loss='categorical_crossentropy', optimizer=opt, metrics=['accuracy'])\n",
        "  return model\n",
        "\n",
        "model = get_bow_model(x_train_features.shape[1])\n",
        "history = model.fit(x_train_features, y_train, validation_split=0.2, epochs=50, verbose=0)\n",
        "\n",
        "plt.figure(figsize=(10,10))\n",
        "plt.plot(history.history['accuracy'], label='train')\n",
        "plt.plot(history.history['val_accuracy'], label='test')\n",
        "plt.xlabel(\"Epoch\")\n",
        "plt.ylabel(\"Accuracy\")\n",
        "plt.legend()\n",
        "plt.show()"
      ],
      "execution_count": null,
      "outputs": [
        {
          "output_type": "display_data",
          "data": {
            "image/png": "[encoded data removed]",
            "text/plain": [
              "<Figure size 720x720 with 1 Axes>"
            ]
          },
          "metadata": {
            "tags": [],
            "needs_background": "light"
          }
        }
      ]
    }
  ]
}